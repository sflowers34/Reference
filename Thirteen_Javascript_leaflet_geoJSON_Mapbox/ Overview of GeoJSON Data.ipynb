{
 "cells": [
  {
   "cell_type": "markdown",
   "metadata": {},
   "source": [
    "# Overview of GeoJSON Data\n"
   ]
  },
  {
   "cell_type": "markdown",
   "metadata": {},
   "source": [
    "## REWIND\n",
    "GeoJSON data is a type of JavaScript Object Notation (JSON) data that is specifically designed to host geographical information."
   ]
  },
  {
   "cell_type": "markdown",
   "metadata": {},
   "source": [
    "GeoJSON data consists of a single object, which can be represented by a geometry object, features object, or collection of features (FeatureCollection object). Let's review these GeoJSON objects in more detail."
   ]
  },
  {
   "cell_type": "markdown",
   "metadata": {},
   "source": [
    "## Geometry Object\n",
    "A GeoJSON geometry object is where the type member's value is one of the following strings: Point, MultiPoint, LineString, MultiLineString, Polygon, MultiPolygon, or GeometryCollection.\n",
    "\n",
    "Geometry object types include the following:\n",
    "\n",
    "Point has a single set of coordinates, like when we mapped a single marker to the map."
   ]
  },
  {
   "cell_type": "markdown",
   "metadata": {},
   "source": [
    "### Point"
   ]
  },
  {
   "cell_type": "code",
   "execution_count": null,
   "metadata": {},
   "outputs": [],
   "source": [
    "\"geometry\":{\n",
    "  \"type\":\"Point\",\n",
    "  \"coordinates\": [-118.4, 33.9]\n",
    "  }"
   ]
  },
  {
   "cell_type": "markdown",
   "metadata": {},
   "source": [
    "### MultiPoint"
   ]
  },
  {
   "cell_type": "markdown",
   "metadata": {},
   "source": [
    "MultiPoint is an array of point coordinates, like when we mapped multiple cities with their population to a map."
   ]
  },
  {
   "cell_type": "code",
   "execution_count": null,
   "metadata": {},
   "outputs": [],
   "source": [
    "\"geometry\":{\n",
    "  \"type\":\"MultiPoint\",\n",
    "  \"coordinates\": [-118.4, 33.9], [-118.5, 34.0]\n",
    "  }"
   ]
  },
  {
   "cell_type": "markdown",
   "metadata": {},
   "source": [
    "### LineString"
   ]
  },
  {
   "cell_type": "markdown",
   "metadata": {},
   "source": [
    "LineString has an array of Point coordinates, like when we mapped the airline route from LAX to SFO."
   ]
  },
  {
   "cell_type": "code",
   "execution_count": null,
   "metadata": {},
   "outputs": [],
   "source": [
    "\"geometry\":{\n",
    "  \"type\":\"LineString\",\n",
    "  \"coordinates\": [[-118.4, 33.9],[-122.4, 37.6]]\n",
    "  }"
   ]
  },
  {
   "cell_type": "markdown",
   "metadata": {},
   "source": [
    "### MultiLineString"
   ]
  },
  {
   "cell_type": "markdown",
   "metadata": {},
   "source": [
    "MultiLineString are an array of LineString coordinates, like when we mapped the LAX-SFO-SLC-SEA airline route."
   ]
  },
  {
   "cell_type": "code",
   "execution_count": null,
   "metadata": {},
   "outputs": [],
   "source": [
    "\"geometry\":{\n",
    "  \"type\":\"MultiLineString\",\n",
    "  \"coordinates\":\n",
    "     [[-118.4, 33.9],[-106.4, 31.8]],\n",
    "     [[-118.4, 33.9],[-123.2, 44.1]]\n",
    "  }"
   ]
  },
  {
   "cell_type": "markdown",
   "metadata": {},
   "source": [
    "### Polygon"
   ]
  },
  {
   "cell_type": "markdown",
   "metadata": {},
   "source": [
    "Polygon has an array of LineString coordinates. We'll map polygons later in this module."
   ]
  },
  {
   "cell_type": "code",
   "execution_count": null,
   "metadata": {},
   "outputs": [],
   "source": [
    "\"geometry\": {\n",
    "   \"type\": \"Polygon\",\n",
    "    \"coordinates\":\n",
    "   [\n",
    "    [ [ -122.446, 37.861 ], [ -122.438, 37.868 ], [ -122.430, 37.872 ] ]\n",
    "   ]"
   ]
  },
  {
   "cell_type": "markdown",
   "metadata": {},
   "source": [
    "### MultiPolygon"
   ]
  },
  {
   "cell_type": "markdown",
   "metadata": {},
   "source": [
    "MultiPolygon has an array of polygon coordinates. We'll map multiple polygons later in this module."
   ]
  },
  {
   "cell_type": "code",
   "execution_count": null,
   "metadata": {},
   "outputs": [],
   "source": [
    "\"geometry\": {\n",
    "   \"type\": \"MultiPolygon\",\n",
    "   \"coordinates\": [\n",
    "    [ [ -122.446, 37.861 ], [ -122.438, 37.868 ], [ -122.430, 37.872 ] ],\n",
    "    [ [ -122.378, 37.826 ], [ -122.377, 37.830 ], [ -122.369, 37.832 ] ]\n",
    "]"
   ]
  },
  {
   "cell_type": "markdown",
   "metadata": {},
   "source": [
    "### GeometryCollection"
   ]
  },
  {
   "cell_type": "markdown",
   "metadata": {},
   "source": [
    "GeometryCollection has a geometry array. Each element in the geometry array can be one of the geometry objects above.\n",
    "\n"
   ]
  },
  {
   "cell_type": "code",
   "execution_count": null,
   "metadata": {},
   "outputs": [],
   "source": [
    "{\n",
    "   \"type\": \"GeometryCollection\",\n",
    "   \"geometries\": [\n",
    "       {\n",
    "         \"type\":\"Point\",\n",
    "       \"coordinates\": [-118.4, 33.9]\n",
    "      }\n",
    "       },\n",
    "       {\n",
    "          \"type\":\"LineString\",\n",
    "          \"coordinates\": [\n",
    "             [-118.4, 33.9],[-122.4, 37.6]\n",
    "           ]\n",
    "       }\n",
    "   ]\n",
    "}"
   ]
  },
  {
   "cell_type": "markdown",
   "metadata": {},
   "source": [
    "## Features Object\n",
    "GeoJSON features object contains a geometry object, like those above, and additional properties, such as magnitude, address, and time as shown below for an earthquake features object.\n"
   ]
  },
  {
   "cell_type": "code",
   "execution_count": null,
   "metadata": {},
   "outputs": [],
   "source": [
    "{\n",
    "    type: \"Feature\",\n",
    "    properties: {\n",
    "    mag: 1.88,\n",
    "    place: \"6km SE of Pahala, Hawaii\",\n",
    "    time: 1573766377230,\n",
    "    type: \"earthquake\",\n",
    "    title: \"M 1.9 - 6km SE of Pahala, Hawaii\"\n",
    "    },\n",
    "    geometry: {\n",
    "    type: \"Point\",\n",
    "    coordinates: [\n",
    "    -155.4329987,\n",
    "    19.1634998\n",
    "    ]},\n",
    "  }"
   ]
  },
  {
   "cell_type": "markdown",
   "metadata": {},
   "source": [
    "## FeatureCollection Object\n",
    "A FeatureCollection object contains an array of features objects. In the following FeatureCollection of airline routes, there is an array of features objects where each feature has its own properties and geometry:"
   ]
  },
  {
   "cell_type": "code",
   "execution_count": null,
   "metadata": {},
   "outputs": [],
   "source": [
    "{\"type\":\"FeatureCollection\",\"features\":\n",
    "[\n",
    "  {\n",
    "    \"type\":\"Feature\",\"properties\":{\n",
    "\"airline\":\"AA\",\"airline_id\":\"24\",\"src\":\"LAX\",\"dst\":\"ABQ\",\"dst_id\":\"4019\",\"stops\":\"0\",\"equipment\":\"CRJ CR7\"},\"geometry\":{\n",
    "\"type\":\"LineString\",\n",
    "\"coordinates\":[[-118.4079971,33.94250107],[-106.609001,35.040199]]}\n",
    "},\n",
    "{\n",
    "\"type\":\"Feature\",\"properties\":{\n",
    "\"airline\":\"AA\",\"airline_id\":\"24\",\"src\":\"LAX\",\"src_id\":\"3484\",\"dst\":\"ANC\",\"dst_id\":\"3774\",\"codeshare\":\"Y\",\"stops\":\"0\",\"equipment\":\"737\"},\"geometry\":{\n",
    "\"type\":\"LineString\",\n",
    "\"coordinates\":[[-118.4079971,33.94250107],[-149.99600219726562,61.174400329589844]]}\n",
    "  },\n",
    "{\n",
    "  \"type\":\"Feature\",\"properties\":{\n",
    "\"airline\":\"AA\",\"airline_id\":\"24\",\"src\":\"LAX\",\"src_id\":\"3484\",\"dst\":\"AUS\",\"dst_id\":\"3673\",\"codeshare\":\"\",\"stops\":\"0\",\"equipment\":\"M83 738\"},\"geometry\":{\n",
    "\"type\":\"LineString\",\n",
    "\"coordinates\":[[-118.4079971,33.94250107],[-97.6698989868164,30.194499969482422]]}\n",
    "  }\n",
    "]\n",
    "\n",
    "}"
   ]
  },
  {
   "cell_type": "code",
   "execution_count": null,
   "metadata": {},
   "outputs": [],
   "source": []
  }
 ],
 "metadata": {
  "kernelspec": {
   "display_name": "PythonData",
   "language": "python",
   "name": "pythondata"
  },
  "language_info": {
   "codemirror_mode": {
    "name": "ipython",
    "version": 3
   },
   "file_extension": ".py",
   "mimetype": "text/x-python",
   "name": "python",
   "nbconvert_exporter": "python",
   "pygments_lexer": "ipython3",
   "version": "3.7.7"
  }
 },
 "nbformat": 4,
 "nbformat_minor": 4
}
