{
 "cells": [
  {
   "cell_type": "markdown",
   "metadata": {},
   "source": [
    "# Data Structures: Dictionaries\n",
    "# Is an object that stores a collection of data. An object in Python and other computer programming languages is data stored in the computer's memory.\n",
    "# A Python dictionary has a key and a value, or key-value pairs. Very similar to a dictionary that contains definitions, the words in the dictionary would be considered the keys, and the definitions of those words would be the values."
   ]
  },
  {
   "cell_type": "code",
   "execution_count": 23,
   "metadata": {},
   "outputs": [],
   "source": [
    "# Create a dictionary\n",
    "counties_dict ={}"
   ]
  },
  {
   "cell_type": "code",
   "execution_count": 24,
   "metadata": {},
   "outputs": [
    {
     "data": {
      "text/plain": [
       "{'Arapahoe': 422829}"
      ]
     },
     "execution_count": 24,
     "metadata": {},
     "output_type": "execute_result"
    }
   ],
   "source": [
    "# Add the country and the number of registered voters\n",
    "counties_dict[\"Arapahoe\"] = 422829\n",
    "counties_dict"
   ]
  },
  {
   "cell_type": "code",
   "execution_count": 25,
   "metadata": {},
   "outputs": [
    {
     "data": {
      "text/plain": [
       "{'Arapahoe': 422829, 'Denver': 463353, 'Jefferson': 432438}"
      ]
     },
     "execution_count": 25,
     "metadata": {},
     "output_type": "execute_result"
    }
   ],
   "source": [
    "# Add more counties\n",
    "counties_dict[\"Denver\"] = 463353\n",
    "counties_dict[\"Jefferson\"] = 432438\n",
    "counties_dict"
   ]
  },
  {
   "cell_type": "code",
   "execution_count": 26,
   "metadata": {},
   "outputs": [
    {
     "data": {
      "text/plain": [
       "3"
      ]
     },
     "execution_count": 26,
     "metadata": {},
     "output_type": "execute_result"
    }
   ],
   "source": [
    "# get length\n",
    "len(counties_dict)"
   ]
  },
  {
   "cell_type": "code",
   "execution_count": 27,
   "metadata": {},
   "outputs": [
    {
     "data": {
      "text/plain": [
       "dict_items([('Arapahoe', 422829), ('Denver', 463353), ('Jefferson', 432438)])"
      ]
     },
     "execution_count": 27,
     "metadata": {},
     "output_type": "execute_result"
    }
   ],
   "source": [
    "# Get all the keys and values\n",
    "counties_dict.items()"
   ]
  },
  {
   "cell_type": "code",
   "execution_count": 28,
   "metadata": {},
   "outputs": [
    {
     "data": {
      "text/plain": [
       "dict_keys(['Arapahoe', 'Denver', 'Jefferson'])"
      ]
     },
     "execution_count": 28,
     "metadata": {},
     "output_type": "execute_result"
    }
   ],
   "source": [
    "# Get only the keys\n",
    "counties_dict.keys()"
   ]
  },
  {
   "cell_type": "code",
   "execution_count": 29,
   "metadata": {},
   "outputs": [
    {
     "data": {
      "text/plain": [
       "dict_values([422829, 463353, 432438])"
      ]
     },
     "execution_count": 29,
     "metadata": {},
     "output_type": "execute_result"
    }
   ],
   "source": [
    "# Get only the values\n",
    "counties_dict.values()"
   ]
  },
  {
   "cell_type": "code",
   "execution_count": 30,
   "metadata": {},
   "outputs": [
    {
     "data": {
      "text/plain": [
       "463353"
      ]
     },
     "execution_count": 30,
     "metadata": {},
     "output_type": "execute_result"
    }
   ],
   "source": [
    "# Get a specific value\n",
    "counties_dict.get(\"Denver\")"
   ]
  },
  {
   "cell_type": "code",
   "execution_count": 31,
   "metadata": {},
   "outputs": [
    {
     "data": {
      "text/plain": [
       "422829"
      ]
     },
     "execution_count": 31,
     "metadata": {},
     "output_type": "execute_result"
    }
   ],
   "source": [
    "# Another way of getting values\n",
    "counties_dict['Arapahoe']"
   ]
  },
  {
   "cell_type": "markdown",
   "metadata": {},
   "source": [
    "# Create a list of dictionaries\n"
   ]
  },
  {
   "cell_type": "code",
   "execution_count": 32,
   "metadata": {},
   "outputs": [],
   "source": [
    "# Create an empty list\n",
    "voting_data =[]"
   ]
  },
  {
   "cell_type": "code",
   "execution_count": 33,
   "metadata": {},
   "outputs": [
    {
     "data": {
      "text/plain": [
       "[{'county': 'Arapahoe', 'registered_voters': 422829},\n",
       " {'county': 'Denver', 'registered_voters': 463353},\n",
       " {'county': 'Jefferson', 'registered_voters': 432438}]"
      ]
     },
     "execution_count": 33,
     "metadata": {},
     "output_type": "execute_result"
    }
   ],
   "source": [
    "voting_data.append({\"county\":\"Arapahoe\", \"registered_voters\": 422829})\n",
    "voting_data.append({\"county\":\"Denver\", \"registered_voters\": 463353})\n",
    "voting_data.append({\"county\":\"Jefferson\", \"registered_voters\": 432438})\n",
    "voting_data"
   ]
  },
  {
   "cell_type": "markdown",
   "metadata": {},
   "source": [
    "# Iterate Through a Dictionary"
   ]
  },
  {
   "cell_type": "code",
   "execution_count": 34,
   "metadata": {},
   "outputs": [
    {
     "name": "stdout",
     "output_type": "stream",
     "text": [
      "Arapahoe\n",
      "Denver\n",
      "Jefferson\n"
     ]
    }
   ],
   "source": [
    "# Get only the keys\n",
    "for county in counties_dict:\n",
    "    print(county)"
   ]
  },
  {
   "cell_type": "code",
   "execution_count": 35,
   "metadata": {},
   "outputs": [
    {
     "name": "stdout",
     "output_type": "stream",
     "text": [
      "Arapahoe\n",
      "Denver\n",
      "Jefferson\n"
     ]
    }
   ],
   "source": [
    "# Using keys() method to iterate over dictionary\n",
    "for county in counties_dict.keys():\n",
    "    print(county)"
   ]
  },
  {
   "cell_type": "code",
   "execution_count": 36,
   "metadata": {},
   "outputs": [
    {
     "name": "stdout",
     "output_type": "stream",
     "text": [
      "422829\n",
      "463353\n",
      "432438\n"
     ]
    }
   ],
   "source": [
    "# Get the values\n",
    "for voters in counties_dict.values():\n",
    "    print(voters)"
   ]
  },
  {
   "cell_type": "code",
   "execution_count": 37,
   "metadata": {},
   "outputs": [
    {
     "name": "stdout",
     "output_type": "stream",
     "text": [
      "422829\n",
      "463353\n",
      "432438\n"
     ]
    }
   ],
   "source": [
    "# Get the value using a for loop\n",
    "for county in counties_dict:\n",
    "    print(counties_dict[county])"
   ]
  },
  {
   "cell_type": "code",
   "execution_count": 38,
   "metadata": {},
   "outputs": [
    {
     "name": "stdout",
     "output_type": "stream",
     "text": [
      "422829\n",
      "463353\n",
      "432438\n"
     ]
    }
   ],
   "source": [
    "# Using get() method on dictionary in the for loop to get the values\n",
    "for county in counties_dict:\n",
    "    print(counties_dict.get(county))"
   ]
  },
  {
   "cell_type": "code",
   "execution_count": 40,
   "metadata": {},
   "outputs": [
    {
     "name": "stdout",
     "output_type": "stream",
     "text": [
      "Arapahoe 422829\n",
      "Denver 463353\n",
      "Jefferson 432438\n"
     ]
    }
   ],
   "source": [
    "# Get the key-value pairs of the dictionary\n",
    "for key, value in counties_dict.items():\n",
    "    print(key, value)"
   ]
  },
  {
   "cell_type": "code",
   "execution_count": 41,
   "metadata": {},
   "outputs": [
    {
     "name": "stdout",
     "output_type": "stream",
     "text": [
      "{'county': 'Arapahoe', 'registered_voters': 422829}\n",
      "{'county': 'Denver', 'registered_voters': 463353}\n",
      "{'county': 'Jefferson', 'registered_voters': 432438}\n"
     ]
    }
   ],
   "source": [
    "# Iterate through a list of dictionaries\n",
    "voting_data = [{\"county\":\"Arapahoe\", \"registered_voters\": 422829},\n",
    "                {\"county\":\"Denver\", \"registered_voters\": 463353},\n",
    "                {\"county\":\"Jefferson\", \"registered_voters\": 432438}]\n",
    "\n",
    "for county_dict in voting_data:\n",
    "    print(county_dict)"
   ]
  },
  {
   "cell_type": "code",
   "execution_count": 43,
   "metadata": {},
   "outputs": [
    {
     "name": "stdout",
     "output_type": "stream",
     "text": [
      "{'county': 'Denver', 'registered_voters': 463353}\n",
      "{'county': 'Denver', 'registered_voters': 463353}\n",
      "{'county': 'Denver', 'registered_voters': 463353}\n"
     ]
    }
   ],
   "source": [
    "# Use range() to iterate over the list\n",
    "for i in range(len(voting_data)):\n",
    "    print(voting_data[1])"
   ]
  },
  {
   "cell_type": "code",
   "execution_count": 44,
   "metadata": {},
   "outputs": [
    {
     "name": "stdout",
     "output_type": "stream",
     "text": [
      "Arapahoe\n",
      "422829\n",
      "Denver\n",
      "463353\n",
      "Jefferson\n",
      "432438\n"
     ]
    }
   ],
   "source": [
    "# Get the values from a List of Dictionaries using nested for loop\n",
    "for county_dict in voting_data:\n",
    "    for value in county_dict.values():\n",
    "        print(value)"
   ]
  },
  {
   "cell_type": "code",
   "execution_count": 45,
   "metadata": {},
   "outputs": [
    {
     "name": "stdout",
     "output_type": "stream",
     "text": [
      "Arapahoe\n",
      "Denver\n",
      "Jefferson\n"
     ]
    }
   ],
   "source": [
    "# Only print the country name from the dictionary\n",
    "for county_dict in voting_data:\n",
    "    print(county_dict['county'])"
   ]
  },
  {
   "cell_type": "markdown",
   "metadata": {},
   "source": [
    "# Using F-Strings with Dictionaries\n"
   ]
  },
  {
   "cell_type": "code",
   "execution_count": 46,
   "metadata": {},
   "outputs": [
    {
     "name": "stdout",
     "output_type": "stream",
     "text": [
      "Arapahoe county has 369237 registered voters.\n",
      "Denver county has 413229 registered voters.\n",
      "Jefferson county has 390222 registered voters.\n"
     ]
    }
   ],
   "source": [
    "# Before F-string\n",
    "counties_dict = {\"Arapahoe\": 369237, \"Denver\":413229, \"Jefferson\": 390222}\n",
    "for county, voters in counties_dict.items():\n",
    "    print(county + \" county has \" + str(voters) + \" registered voters.\")"
   ]
  },
  {
   "cell_type": "code",
   "execution_count": 47,
   "metadata": {},
   "outputs": [
    {
     "name": "stdout",
     "output_type": "stream",
     "text": [
      "Arapahoe county has 369237 registered voters.\n",
      "Denver county has 413229 registered voters.\n",
      "Jefferson county has 390222 registered voters.\n"
     ]
    }
   ],
   "source": [
    "# with F-string\n",
    "for county, voters in counties_dict.items():\n",
    "    print(f\"{county} county has {voters} registered voters.\")"
   ]
  },
  {
   "cell_type": "code",
   "execution_count": null,
   "metadata": {},
   "outputs": [],
   "source": []
  }
 ],
 "metadata": {
  "kernelspec": {
   "display_name": "PythonData",
   "language": "python",
   "name": "pythondata"
  },
  "language_info": {
   "codemirror_mode": {
    "name": "ipython",
    "version": 3
   },
   "file_extension": ".py",
   "mimetype": "text/x-python",
   "name": "python",
   "nbconvert_exporter": "python",
   "pygments_lexer": "ipython3",
   "version": "3.7.7"
  }
 },
 "nbformat": 4,
 "nbformat_minor": 4
}
