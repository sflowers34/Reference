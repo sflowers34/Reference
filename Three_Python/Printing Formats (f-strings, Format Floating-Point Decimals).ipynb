{
 "cells": [
  {
   "cell_type": "markdown",
   "metadata": {},
   "source": [
    "# Printing Formats"
   ]
  },
  {
   "cell_type": "code",
   "execution_count": 1,
   "metadata": {},
   "outputs": [
    {
     "name": "stdout",
     "output_type": "stream",
     "text": [
      "How many votes did you get in the election? 45\n",
      "What is the total votes in the election? 100\n",
      "I received 45.0% of the total votes.\n"
     ]
    }
   ],
   "source": [
    "# Original code\n",
    "my_votes = int(input(\"How many votes did you get in the election? \"))\n",
    "total_votes = int(input(\"What is the total votes in the election? \"))\n",
    "percentage_votes = (my_votes / total_votes) * 100\n",
    "print(\"I received \" + str(percentage_votes)+\"% of the total votes.\")"
   ]
  },
  {
   "cell_type": "code",
   "execution_count": 2,
   "metadata": {},
   "outputs": [
    {
     "name": "stdout",
     "output_type": "stream",
     "text": [
      "How many votes did you get in the election? 45\n",
      "What is the total votes in the election? 100\n",
      "I received 45.0% of the total votes.\n"
     ]
    }
   ],
   "source": [
    "# Same outcome using f-string\n",
    "my_votes = int(input(\"How many votes did you get in the election? \"))\n",
    "total_votes = int(input(\"What is the total votes in the election? \"))\n",
    "print(f\"I received {my_votes / total_votes * 100}% of the total votes.\")"
   ]
  },
  {
   "cell_type": "markdown",
   "metadata": {},
   "source": [
    "# Using F-Strings with Dictionaries\n"
   ]
  },
  {
   "cell_type": "code",
   "execution_count": 3,
   "metadata": {},
   "outputs": [
    {
     "name": "stdout",
     "output_type": "stream",
     "text": [
      "Arapahoe county has 369237 registered voters.\n",
      "Denver county has 413229 registered voters.\n",
      "Jefferson county has 390222 registered voters.\n"
     ]
    }
   ],
   "source": [
    "# Before F-string\n",
    "counties_dict = {\"Arapahoe\": 369237, \"Denver\":413229, \"Jefferson\": 390222}\n",
    "for county, voters in counties_dict.items():\n",
    "    print(county + \" county has \" + str(voters) + \" registered voters.\")"
   ]
  },
  {
   "cell_type": "code",
   "execution_count": 4,
   "metadata": {},
   "outputs": [
    {
     "name": "stdout",
     "output_type": "stream",
     "text": [
      "Arapahoe county has 369237 registered voters.\n",
      "Denver county has 413229 registered voters.\n",
      "Jefferson county has 390222 registered voters.\n"
     ]
    }
   ],
   "source": [
    "# with F-string\n",
    "for county, voters in counties_dict.items():\n",
    "    print(f\"{county} county has {voters} registered voters.\")"
   ]
  },
  {
   "cell_type": "markdown",
   "metadata": {},
   "source": [
    "# Multline F-strings"
   ]
  },
  {
   "cell_type": "code",
   "execution_count": 5,
   "metadata": {},
   "outputs": [
    {
     "name": "stdout",
     "output_type": "stream",
     "text": [
      "How many votes did the candidate get in the election? 35\n",
      "What is the total number of votes in the election? 100\n",
      "You received 35 number of votes. The total number of votes in the election was 100. You received 35.0% of the total votes.\n"
     ]
    }
   ],
   "source": [
    "candidate_votes = int(input(\"How many votes did the candidate get in the election? \"))\n",
    "total_votes = int(input(\"What is the total number of votes in the election? \"))\n",
    "message_to_candidate = (\n",
    "    f\"You received {candidate_votes} number of votes. \"\n",
    "    f\"The total number of votes in the election was {total_votes}. \"\n",
    "    f\"You received {candidate_votes / total_votes * 100}% of the total votes.\")\n",
    "\n",
    "print(message_to_candidate)"
   ]
  },
  {
   "cell_type": "markdown",
   "metadata": {},
   "source": [
    "# Format Floating-Point Decimals\n"
   ]
  },
  {
   "cell_type": "code",
   "execution_count": 6,
   "metadata": {},
   "outputs": [],
   "source": [
    "# General format\n",
    "# f'{value:{width}.{precision}}'"
   ]
  },
  {
   "cell_type": "code",
   "execution_count": 9,
   "metadata": {},
   "outputs": [
    {
     "name": "stdout",
     "output_type": "stream",
     "text": [
      "How many votes did the candidate get in the election? 3500\n",
      "What is the total number of votes in the election? 23123\n",
      "You received 3,500 number of votes. The total number of votes in the election was 23,123. You received 15.14% of the total votes.\n"
     ]
    }
   ],
   "source": [
    "# adding a thousands seperator\n",
    "candidate_votes = int(input(\"How many votes did the candidate get in the election? \"))\n",
    "total_votes = int(input(\"What is the total number of votes in the election? \"))\n",
    "message_to_candidate = (\n",
    "    f\"You received {candidate_votes:,} number of votes. \"\n",
    "    f\"The total number of votes in the election was {total_votes:,}. \"\n",
    "    f\"You received {candidate_votes / total_votes * 100:.2f}% of the total votes.\")\n",
    "print (message_to_candidate)"
   ]
  },
  {
   "cell_type": "code",
   "execution_count": null,
   "metadata": {},
   "outputs": [],
   "source": []
  }
 ],
 "metadata": {
  "kernelspec": {
   "display_name": "PythonData",
   "language": "python",
   "name": "pythondata"
  },
  "language_info": {
   "codemirror_mode": {
    "name": "ipython",
    "version": 3
   },
   "file_extension": ".py",
   "mimetype": "text/x-python",
   "name": "python",
   "nbconvert_exporter": "python",
   "pygments_lexer": "ipython3",
   "version": "3.7.7"
  }
 },
 "nbformat": 4,
 "nbformat_minor": 4
}
