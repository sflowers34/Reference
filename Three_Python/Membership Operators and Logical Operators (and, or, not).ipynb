{
 "cells": [
  {
   "cell_type": "markdown",
   "metadata": {},
   "source": [
    "# Membership Operators:"
   ]
  },
  {
   "cell_type": "markdown",
   "metadata": {},
   "source": [
    "# Are used to test if an object, like a string, integer, or other data type is present in an expression, list, tuple, or dictionary. The following table describes these operators and provides an example of each one."
   ]
  },
  {
   "cell_type": "code",
   "execution_count": 5,
   "metadata": {},
   "outputs": [
    {
     "name": "stdout",
     "output_type": "stream",
     "text": [
      "True\n"
     ]
    }
   ],
   "source": [
    "# in\n",
    "# returns True if a sequence with the specified value is present in the object.\n",
    "counties = [\"Arapahoe\",\"Denver\",\"Jefferson\"] \n",
    "if \"Arapahoe\" in counties: \n",
    "    print(\"True\") \n",
    "else: \n",
    "    print(\"False\")"
   ]
  },
  {
   "cell_type": "code",
   "execution_count": 6,
   "metadata": {},
   "outputs": [
    {
     "name": "stdout",
     "output_type": "stream",
     "text": [
      "True\n"
     ]
    }
   ],
   "source": [
    "# not in\n",
    "# Returns True if a sequence with the specified value is not present in the object.\n",
    "counties = [\"Arapahoe\",\"Denver\",\"Jefferson\"] \n",
    "if \"El Paso\" not in counties: \n",
    "    print(\"True\") \n",
    "else: \n",
    "    print(\"False\")"
   ]
  },
  {
   "cell_type": "code",
   "execution_count": 7,
   "metadata": {},
   "outputs": [
    {
     "name": "stdout",
     "output_type": "stream",
     "text": [
      "El Paso is not the list of counties.\n"
     ]
    }
   ],
   "source": [
    "# Practice creating a membership operation\n",
    "counties = [\"Arapahoe\",\"Denver\",\"Jefferson\"]\n",
    "if \"El Paso\" in counties:\n",
    "    print(\"El Paso is in the list of counties.\")\n",
    "else:\n",
    "    print(\"El Paso is not the list of counties.\")"
   ]
  },
  {
   "cell_type": "markdown",
   "metadata": {},
   "source": [
    "# Logical Operators\n",
    "# Allow us to connect multiple comparison expressions to create a compound expression. There are three logical operators: and, or, and not. The following table describes these operators and provides an example of each one."
   ]
  },
  {
   "cell_type": "code",
   "execution_count": 9,
   "metadata": {},
   "outputs": [
    {
     "name": "stdout",
     "output_type": "stream",
     "text": [
      "True\n"
     ]
    }
   ],
   "source": [
    "# and\n",
    "# Evaluates two Boolean expressions into one compound expression. \n",
    "# The compound expression is true if both Boolean expressions are true.\n",
    "# If one of the expressions is false, then the compound expression is false\n",
    "x = 5\n",
    "y = 5\n",
    "if x == 5 and y == 5:\n",
    "    print(\"True\") \n",
    "else:\n",
    "    print(\"False\")"
   ]
  },
  {
   "cell_type": "code",
   "execution_count": 10,
   "metadata": {},
   "outputs": [
    {
     "name": "stdout",
     "output_type": "stream",
     "text": [
      "True\n"
     ]
    }
   ],
   "source": [
    "# or\n",
    "# Evaluates two Boolean expressions into one compound expression. \n",
    "# The compound expression is true if either Boolean expression is true.\n",
    "# If one of the expressions is false, then the compound expression is true. \n",
    "# If both expressions are false, then the compound expression is false.\n",
    "x = 5\n",
    "y = 5\n",
    "if x == 3 or y == 5:\n",
    "    print(\"True\")\n",
    "else:\n",
    "    print(\"False\")"
   ]
  },
  {
   "cell_type": "code",
   "execution_count": 11,
   "metadata": {},
   "outputs": [
    {
     "name": "stdout",
     "output_type": "stream",
     "text": [
      "True\n"
     ]
    }
   ],
   "source": [
    "# not\n",
    "# Evaluates a Boolean expression. The expression is true if the conditional is false.\n",
    "x = 5\n",
    "y = 5\n",
    "if not(x > y):\n",
    "    print(\"True\") \n",
    "else:\n",
    "    print(\"False\")"
   ]
  },
  {
   "cell_type": "code",
   "execution_count": 12,
   "metadata": {},
   "outputs": [
    {
     "name": "stdout",
     "output_type": "stream",
     "text": [
      "Arapahoe or El Paso is not in the list of counties.\n"
     ]
    }
   ],
   "source": [
    "# Combine membership and logical operators using in and and\n",
    "if \"Arapahoe\" in counties and \"El Paso\" in counties:\n",
    "    print(\"Arapahoe and El Paso are in the list of counties.\")\n",
    "else:\n",
    "    print(\"Arapahoe or El Paso is not in the list of counties.\")"
   ]
  },
  {
   "cell_type": "code",
   "execution_count": 13,
   "metadata": {},
   "outputs": [
    {
     "name": "stdout",
     "output_type": "stream",
     "text": [
      "Arapahoe or El Paso is in the list of counties.\n"
     ]
    }
   ],
   "source": [
    "# Combine membership and logical operators using in and or\n",
    "if \"Arapahoe\" in counties or \"El Paso\" in counties:\n",
    "    print(\"Arapahoe or El Paso is in the list of counties.\")\n",
    "else:\n",
    "    print(\"Arapahoe and El Paso are not in the list of counties.\")"
   ]
  },
  {
   "cell_type": "code",
   "execution_count": null,
   "metadata": {},
   "outputs": [],
   "source": []
  }
 ],
 "metadata": {
  "kernelspec": {
   "display_name": "PythonData",
   "language": "python",
   "name": "pythondata"
  },
  "language_info": {
   "codemirror_mode": {
    "name": "ipython",
    "version": 3
   },
   "file_extension": ".py",
   "mimetype": "text/x-python",
   "name": "python",
   "nbconvert_exporter": "python",
   "pygments_lexer": "ipython3",
   "version": "3.7.7"
  }
 },
 "nbformat": 4,
 "nbformat_minor": 4
}
