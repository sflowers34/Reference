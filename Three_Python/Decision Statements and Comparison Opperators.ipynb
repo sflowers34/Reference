{
 "cells": [
  {
   "cell_type": "markdown",
   "metadata": {},
   "source": [
    "# Decision Statements"
   ]
  },
  {
   "cell_type": "code",
   "execution_count": 1,
   "metadata": {},
   "outputs": [
    {
     "data": {
      "text/plain": [
       "['Arapahoe', 'Denver', 'Jefferson']"
      ]
     },
     "execution_count": 1,
     "metadata": {},
     "output_type": "execute_result"
    }
   ],
   "source": [
    "# Create list\n",
    "counties = [\"Arapahoe\",\"Denver\",\"Jefferson\"]\n",
    "counties"
   ]
  },
  {
   "cell_type": "code",
   "execution_count": 2,
   "metadata": {},
   "outputs": [
    {
     "name": "stdout",
     "output_type": "stream",
     "text": [
      "Denver\n"
     ]
    }
   ],
   "source": [
    "# if statement\n",
    "if counties[1] == 'Denver':\n",
    "    print(counties[1])\n"
   ]
  },
  {
   "cell_type": "markdown",
   "metadata": {},
   "source": [
    "# Comparison Operators or Boolean Operators\n",
    "# >  greater than\n",
    "# >= greater than or equal to\n",
    "# <  less than\n",
    "# <= less than or equal to\n",
    "# == equal to\n",
    "# != not equal to"
   ]
  },
  {
   "cell_type": "markdown",
   "metadata": {},
   "source": [
    "# If-Else Statements:  Also referred to as a dual alternative decision statement."
   ]
  },
  {
   "cell_type": "code",
   "execution_count": 3,
   "metadata": {},
   "outputs": [
    {
     "name": "stdout",
     "output_type": "stream",
     "text": [
      "What is the temperature outside? 95\n",
      "Turn on the AC.\n"
     ]
    }
   ],
   "source": [
    "temperature = int(input(\"What is the temperature outside? \"))\n",
    "\n",
    "if temperature > 80:\n",
    "    print(\"Turn on the AC.\")\n",
    "else:\n",
    "    print(\"Open the windows.\")"
   ]
  },
  {
   "cell_type": "markdown",
   "metadata": {},
   "source": [
    "# Nested if-else"
   ]
  },
  {
   "cell_type": "code",
   "execution_count": 4,
   "metadata": {},
   "outputs": [
    {
     "name": "stdout",
     "output_type": "stream",
     "text": [
      "What is your test score? 85\n",
      "Your grade is a B.\n"
     ]
    }
   ],
   "source": [
    "\n",
    "# What is the score?\n",
    "score = int(input(\"What is your test score? \"))\n",
    "\n",
    "# Determine the grade.\n",
    "if score >= 90:\n",
    "    print('Your grade is an A.')\n",
    "else:\n",
    "    if score >= 80:\n",
    "        print('Your grade is a B.')\n",
    "    else:\n",
    "        if score >= 70:\n",
    "            print('Your grade is a C.')\n",
    "        else:\n",
    "            if score >= 60:\n",
    "                print('Your grade is a D.')\n",
    "            else:\n",
    "                print('Your grade is an F.')"
   ]
  },
  {
   "cell_type": "markdown",
   "metadata": {},
   "source": [
    "# if-elif-else"
   ]
  },
  {
   "cell_type": "code",
   "execution_count": 5,
   "metadata": {},
   "outputs": [
    {
     "name": "stdout",
     "output_type": "stream",
     "text": [
      "What is your test score? 65\n",
      "Your grade is a D.\n"
     ]
    }
   ],
   "source": [
    "# What is the score?\n",
    "score = int(input(\"What is your test score? \"))\n",
    "\n",
    "# Determine the grade.\n",
    "if score >= 90:\n",
    "    print('Your grade is an A.')\n",
    "elif score >= 80:\n",
    "    print('Your grade is a B.')\n",
    "elif score >= 70:\n",
    "    print('Your grade is a C.')\n",
    "elif score >= 60:\n",
    "    print('Your grade is a D.')\n",
    "else:\n",
    "    print('Your grade is an F.')"
   ]
  },
  {
   "cell_type": "code",
   "execution_count": null,
   "metadata": {},
   "outputs": [],
   "source": []
  }
 ],
 "metadata": {
  "kernelspec": {
   "display_name": "PythonData",
   "language": "python",
   "name": "pythondata"
  },
  "language_info": {
   "codemirror_mode": {
    "name": "ipython",
    "version": 3
   },
   "file_extension": ".py",
   "mimetype": "text/x-python",
   "name": "python",
   "nbconvert_exporter": "python",
   "pygments_lexer": "ipython3",
   "version": "3.7.7"
  }
 },
 "nbformat": 4,
 "nbformat_minor": 4
}
